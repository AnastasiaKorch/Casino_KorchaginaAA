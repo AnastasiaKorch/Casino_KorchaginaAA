{
 "cells": [
  {
   "cell_type": "markdown",
   "metadata": {},
   "source": [
    "Korchagina A.A."
   ]
  },
  {
   "cell_type": "code",
   "execution_count": 1,
   "metadata": {
    "collapsed": true
   },
   "outputs": [],
   "source": [
    "import numpy as np\n",
    "import random\n",
    "import matplotlib.pyplot as plt \n",
    "import copy"
   ]
  },
  {
   "cell_type": "markdown",
   "metadata": {},
   "source": [
    "<h4>HMM random generator </h4>\n",
    "Generate a sequence x of length L given the model parameters.\n"
   ]
  },
  {
   "cell_type": "code",
   "execution_count": 2,
   "metadata": {
    "collapsed": true
   },
   "outputs": [],
   "source": [
    "#A - transition matrix\n",
    "#E - emission matrix\n",
    "#X - beginning distribution\n",
    "\n",
    "def random_generator_states(A, E, L, X): \n",
    "    states = np.zeros((L,), dtype = int)\n",
    "    Xs = len(X)\n",
    "    M = len(A)\n",
    "    K = len(E[0])\n",
    "    for i in range(L):\n",
    "        r = random.random()\n",
    "        f = 0\n",
    "        if i == 0:\n",
    "            for j in range(Xs):\n",
    "                f += X[j]\n",
    "                if r < f:\n",
    "                    states[i] = j\n",
    "                    break\n",
    "        else:\n",
    "            for j in range(M):\n",
    "                f += A[states[i-1], j]\n",
    "                if r < f:\n",
    "                    states[i] = j\n",
    "                    break\n",
    "    return states\n",
    "\n",
    "def random_generator(A, E, L, X):\n",
    "    x = np.zeros((L,), dtype = int)\n",
    "    states = random_generator_states(A, E, L, X)\n",
    "    K = len(E[0])\n",
    "    for i in range(L):\n",
    "        r = random.random()\n",
    "        f = 0\n",
    "        for j in range(K):\n",
    "            f += E[states[i], j]\n",
    "            if r < f:\n",
    "                x[i] = j+1\n",
    "                break\n",
    "    return x, states\n"
   ]
  },
  {
   "cell_type": "markdown",
   "metadata": {},
   "source": [
    "<h4> Viterbi algorithm </h4>\n",
    "\n",
    "Use Viterbi algorithm to find the most probable path π given x and HMM parameters.  \n",
    "Using formulas from \"Biological sequence analysis\" R.Durbin p.55"
   ]
  },
  {
   "cell_type": "code",
   "execution_count": 3,
   "metadata": {
    "collapsed": true
   },
   "outputs": [],
   "source": [
    "#seq - sequence x\n",
    "#A - transition matrix\n",
    "#E - emission matrix\n",
    "#X - beginning distribution\n",
    "\n",
    "def Viterby_algoritm(seq, A, E, X):\n",
    "    L = len(seq)\n",
    "    M = len(A)\n",
    "    \n",
    "    #matrix of the most probable previous state in every current state\n",
    "    Ptr = np.zeros((M,L), dtype = int)\n",
    "    \n",
    "    #matrix of the biggest probability in every current state \n",
    "    W = np.zeros((M,L))\n",
    "    \n",
    "    #matrix of the most probable state path\n",
    "    P_final = np.zeros((L,), dtype = int)\n",
    "    \n",
    "    for i in range(L):\n",
    "        if i == 0:\n",
    "            for k in range(M):\n",
    "                W[k, i] = X[k] * E[k, seq[i]-1]\n",
    "        else:\n",
    "            for j in range(M):\n",
    "                max_el = -1.0\n",
    "                imax = -1\n",
    "                for k in range(M):\n",
    "                    S = E[j, seq[i]-1]*A[k,j]*W[k, i-1]\n",
    "                    if S > max_el:\n",
    "                        max_el = S\n",
    "                        imax = k\n",
    "                W[j,i] = max_el\n",
    "                Ptr[j,i] = imax\n",
    "        W[:, i] /= max(W[:, i])\n",
    "    \n",
    "    #Traceback\n",
    "    for i in range(L-1,-1,-1):\n",
    "        if i == L-1:\n",
    "            imax = -1\n",
    "            max_el = -1.0\n",
    "            for k in range(M):\n",
    "                if W[k,i] > max_el:\n",
    "                    max_el = W[k,i]\n",
    "                    imax = k\n",
    "            P_final[i] = imax\n",
    "        else:\n",
    "            P_final[i] = Ptr[P_final[i+1],i+1]\n",
    "    return P_final\n",
    "    "
   ]
  },
  {
   "cell_type": "markdown",
   "metadata": {},
   "source": [
    "<h4>Forward algorithm </h4>\n",
    "\n",
    "Find the probability P(x) using forward algorithm (store the full matrix of forward\n",
    "probabilities fk(xi) in order to use it for posterior decoding later on).  \n",
    "(First part of Viterby)  \n",
    "Using formulas from \"Biological sequence analysis\" R.Durbin p.57"
   ]
  },
  {
   "cell_type": "code",
   "execution_count": 4,
   "metadata": {
    "collapsed": true
   },
   "outputs": [],
   "source": [
    "#seq - sequence x\n",
    "#A - transition matrix\n",
    "#E - emission matrix\n",
    "#X - beginning distribution\n",
    "\n",
    "def Forward(seq, A, E, X):\n",
    "    L = len(seq)\n",
    "    M = len(A)\n",
    "    W = np.zeros((M,L))\n",
    "    \n",
    "    #vector of normalizaton\n",
    "    norm = np.zeros(L)\n",
    "    \n",
    "    for i in range(L):\n",
    "        if i == 0:\n",
    "            for k in range(M):\n",
    "                W[k, i] = X[k] * E[k, seq[i]-1]\n",
    "        else:\n",
    "            for j in range(M):\n",
    "                S = 0.\n",
    "                for k in range(M):\n",
    "                    S += A[k,j]*W[k, i-1]*E[j, seq[i]-1]\n",
    "                W[j,i] = S\n",
    "        norm[i] = max(W[:, i])\n",
    "        W[:, i] /= norm[i]\n",
    "        \n",
    "    P_final = 0\n",
    "    for j in range(M):\n",
    "        P_final += W[j, L-1]\n",
    "\n",
    "        \n",
    "    return W, P_final, norm"
   ]
  },
  {
   "cell_type": "markdown",
   "metadata": {},
   "source": [
    "<h4>Backward algorithm </h4>\n",
    "\n",
    "Implement the backward algorithm.   \n",
    "Using formulas from \"Biological sequence analysis\" R.Durbin p.58"
   ]
  },
  {
   "cell_type": "code",
   "execution_count": 5,
   "metadata": {
    "collapsed": true
   },
   "outputs": [],
   "source": [
    "#seq - sequence x\n",
    "#A - transition matrix\n",
    "#E - emission matrix\n",
    "#X - beginning distribution\n",
    "\n",
    "def Backward(seq, A, E, X):\n",
    "    L = len(seq)\n",
    "    M = len(A)\n",
    "    W = np.zeros((M,L))\n",
    "    \n",
    "    #vector of normalizaton\n",
    "    norm = np.zeros(L)\n",
    "    norm[-1] = 1\n",
    "    for i in range(L-1,-1,-1):\n",
    "        if i == L-1:\n",
    "            for k in range(M):\n",
    "                W[k, i] = 1\n",
    "        else:\n",
    "            for j in range(M):\n",
    "                summ = 0.\n",
    "                for k in range(M):\n",
    "                    summ += E[k, seq[i+1]-1]*A[j,k]*W[k, i+1]\n",
    "                W[j,i] = summ\n",
    "        norm[i] = max(W[:, i])\n",
    "        W[:, i] /= norm[i]\n",
    "        \n",
    "    P_final = 0.\n",
    "    for i in range(M):\n",
    "            P_final += W[i,0]*X[i]*E[i, seq[0]-1]\n",
    "        \n",
    "    return W, P_final, norm"
   ]
  },
  {
   "cell_type": "markdown",
   "metadata": {},
   "source": [
    "<h4>Posterior decoding </h4>\n",
    "\n",
    "Implement the posterior decoding.   \n",
    "Using formulas from \"Biological sequence analysis\" R.Durbin p.59"
   ]
  },
  {
   "cell_type": "code",
   "execution_count": 6,
   "metadata": {
    "collapsed": true
   },
   "outputs": [],
   "source": [
    "#F,B - normalized matrix of forward and backward algorithms \n",
    "#norm_F, norm_B - vectors of normalization coefficients \n",
    "#P - normalized probability of observation\n",
    "\n",
    "def Posterior(F, B, norm_F, norm_B, P):\n",
    "    L = len(F)\n",
    "    P_final = np.zeros(L)\n",
    "    for i in range(L):\n",
    "        P_final[i] = np.exp(np.log(F[i]) + np.log(B[i]) - np.log(P)\n",
    "                            - np.sum(np.log(norm_F[i+1:])) + np.sum(np.log(norm_B[i:])))\n",
    "    return P_final"
   ]
  },
  {
   "cell_type": "markdown",
   "metadata": {},
   "source": [
    "<h4> The beginning distribution </h4>\n",
    "The beginning distribution is the stationary distribution of the underlying Markov chain.  \n",
    "\n",
    "- Solve the equation xA = x, where x is the beginning distribution\n",
    "- with condition sum(x(i) = 1)"
   ]
  },
  {
   "cell_type": "code",
   "execution_count": 7,
   "metadata": {
    "collapsed": true
   },
   "outputs": [],
   "source": [
    "def begin_dist(A):\n",
    "    n = len(A)\n",
    "    A = A.transpose()[:-1] - np.eye(n)[0]      #Choose first equation of matrix\n",
    "    A = np.vstack((A, np.ones(n)))             #Add condition sum(x(i) = 1)\n",
    "    b = np.eye(n)[-1]                          #Create matrix of right-hand side matrix\n",
    "    X = np.linalg.solve(A,b)\n",
    "    return X"
   ]
  },
  {
   "cell_type": "markdown",
   "metadata": {},
   "source": [
    " <h4>Baum-Welch algorithm</h4>\n",
    " \n",
    " Implement Baum-Welch training.\n",
    " Using formulas from \"Biological sequence analysis\" R.Durbin p.63"
   ]
  },
  {
   "cell_type": "code",
   "execution_count": 8,
   "metadata": {
    "collapsed": true
   },
   "outputs": [],
   "source": [
    "#sum of logarithm from hint in homework document\n",
    "def sum_of_log(X, Y):\n",
    "    return X + np.log(1 + np.exp(Y-X))\n",
    "\n",
    "#normalize matrix\n",
    "def norm_matrix(x):\n",
    "    m = len(x)\n",
    "    l = len(x[0])\n",
    "    \n",
    "    for i in range(m):\n",
    "        s = 0.\n",
    "        for j in range(l):\n",
    "            s+= x[i,j]\n",
    "        x[i] /= s\n",
    "    return x"
   ]
  },
  {
   "cell_type": "code",
   "execution_count": 15,
   "metadata": {
    "collapsed": true
   },
   "outputs": [],
   "source": [
    "#A, E - matrix of transitions and matrix of emissions for generation sequences\n",
    "#A0, E0 - random matrixes of transitions and emissions\n",
    "#size - count of sequences\n",
    "#L - length of sequences\n",
    "#eps - accuracy\n",
    "\n",
    "def Baum_Welch(A, E, A0, E0, size, L, eps):\n",
    "    M = len(A)\n",
    "    \n",
    "    A_prev = copy.deepcopy(A0)\n",
    "    E_prev = copy.deepcopy(E0)\n",
    "    \n",
    "    A_result = np.zeros((M,M))\n",
    "    E_result = np.zeros((M,R))\n",
    "    \n",
    "    ROLLS = []\n",
    "    for i in range(size):\n",
    "        ROLLS.append(random_generator(A, E, L, begin_dist(A))[0])\n",
    "    X = begin_dist(A0)\n",
    "    it = 0\n",
    "    while (1):\n",
    "        P = np.zeros(M)\n",
    "        A_final = np.zeros((M,M))\n",
    "        E_final = np.zeros((M,R))\n",
    "        sum_log_P = 0\n",
    "        for i in range(size):\n",
    "            \n",
    "            \n",
    "            A_cur = np.zeros((M,M))\n",
    "            E_cur = np.zeros((M,R))\n",
    "            \n",
    "            FA, PF, nF = Forward(ROLLS[i], A_prev, E_prev, X)\n",
    "            BA, PB, nB = Backward(ROLLS[i], A_prev, E_prev, X)\n",
    "            log_P = np.log(PF) + np.sum(np.log(nF))\n",
    "            sum_log_P += log_P\n",
    "            for k in range(L-1):\n",
    "                \n",
    "                log_Forward = np.log(FA[:,k])\n",
    "                for m in range(k+1):\n",
    "                    log_Forward += np.log(nF[m])\n",
    "                    \n",
    "                log_Backward = np.log(BA[:,k+1])\n",
    "                h = k+1\n",
    "                while(h<L):\n",
    "                    log_Backward += np.log(nB[h])\n",
    "                    h+=1\n",
    "                    \n",
    "                log_sum = (np.zeros((M,M)) + log_Forward.reshape(M,1) + np.log(A_prev) + \n",
    "                           log_Backward + np.log(E_prev[:, ROLLS[i][k+1]-1]) - log_P)\n",
    "                \n",
    "                if k == 0:\n",
    "                    A_cur = log_sum\n",
    "                else:\n",
    "                    A_cur = sum_of_log(A_cur, log_sum)\n",
    "                        \n",
    "            for k in range(L):\n",
    "                \n",
    "                log_Forward = np.log(FA[:,k])\n",
    "                for m in range(k+1):\n",
    "                    log_Forward += np.log(nF[m])\n",
    "                             \n",
    "                log_Backward = np.log(BA[:,k])\n",
    "                h = copy.deepcopy(k)\n",
    "                while(h<L):\n",
    "                    log_Backward += np.log(nB[h])\n",
    "                    h+=1\n",
    "                \n",
    "                log_sum = log_Forward + log_Backward - log_P\n",
    "                \n",
    "                if (E_cur[:, ROLLS[i][k]-1] == np.zeros(M)).all():\n",
    "                    E_cur[:, ROLLS[i][k]-1] = log_sum                \n",
    "                else:\n",
    "                    E_cur[:, ROLLS[i][k]-1] = sum_of_log(E_cur[:, ROLLS[i][k]-1], log_sum)\n",
    "\n",
    "            if i == 0 :\n",
    "                P = np.log(BA[:,0])+np.sum(np.log(nB))-log_P\n",
    "                #print(P)\n",
    "                A_final = copy.deepcopy(A_cur)\n",
    "                E_final = copy.deepcopy(E_cur)\n",
    "            else:\n",
    "                P = sum_of_log(P, np.log(BA[:,0])+np.sum(np.log(nB))-log_P)\n",
    "                #print(P)\n",
    "                A_final = sum_of_log(A_final, A_cur)\n",
    "                E_final = sum_of_log(E_final, E_cur)\n",
    "                    \n",
    "        A_final = norm_matrix(np.exp(A_final))\n",
    "        E_final = norm_matrix(np.exp(E_final))\n",
    "        \n",
    "        For_compare_A = abs(np.log(A_final/A_prev))\n",
    "        For_compare_E = abs(np.log(E_final/E_prev))\n",
    "            \n",
    "        if ((For_compare_A < np.ones((M,M))*eps).all() and \n",
    "            (For_compare_E < np.ones((M,R))*eps).all()):\n",
    "            A_result = copy.deepcopy(A_final)\n",
    "            E_result = copy.deepcopy(E_final)\n",
    "            break \n",
    "            \n",
    "        A_prev = copy.deepcopy(A_final)\n",
    "        E_prev = copy.deepcopy(E_final)\n",
    "        \n",
    "        \n",
    "        s = sum_of_log(P[0],P[1])\n",
    "        X = np.exp(P - s)\n",
    "        if it == 0:\n",
    "            print('Complete credibility of every 10-th iteration:')\n",
    "        if it % 10 == 0:\n",
    "            print(sum_log_P)\n",
    "        it += 1\n",
    "    return A_result, E_result"
   ]
  },
  {
   "cell_type": "markdown",
   "metadata": {},
   "source": [
    "# Miserable casino\n",
    "\n",
    "1) Set transition (M ×M) and emission (M ×K) matrices and beginning distribution (vector of length M).  \n",
    "Simulate occasionally unfair casino: one dice has equal probabilities of each face\n",
    "P(i) = 1/6, i = 1, 2, 3, 4, 5, 6 and another dice has probability P(6) = 0.5 and all\n",
    "other outcomes have probability 0.1. The probability to switch from the fair dice\n",
    "to the loaded dice is 0.05, the probability to switch from the loaded to the fair dice\n",
    "is 0.1. The beginning distribution is the stationary distribution of the underlying\n",
    "Markov chain."
   ]
  },
  {
   "cell_type": "code",
   "execution_count": 10,
   "metadata": {
    "collapsed": false
   },
   "outputs": [
    {
     "name": "stdout",
     "output_type": "stream",
     "text": [
      "A:\n",
      "[[ 0.95  0.05]\n",
      " [ 0.1   0.9 ]]\n",
      "E:\n",
      "[[ 0.17  0.17  0.17  0.17  0.17  0.17]\n",
      " [ 0.1   0.1   0.1   0.1   0.1   0.5 ]]\n",
      "X:\n",
      "[ 0.67  0.33]\n"
     ]
    }
   ],
   "source": [
    "A = np.array([[0.95, 0.05],[0.1, 0.9]])\n",
    "E = np.array([[1/6,1/6,1/6,1/6,1/6,1/6],[0.1,0.1,0.1,0.1,0.1,0.5]])\n",
    "X = begin_dist(A)\n",
    "print('A:', np.around(A, decimals = 2), 'E:', np.around(E, decimals = 2), 'X:', np.around(X, decimals = 2), sep = '\\n')"
   ]
  },
  {
   "cell_type": "code",
   "execution_count": 11,
   "metadata": {
    "collapsed": false
   },
   "outputs": [
    {
     "name": "stdout",
     "output_type": "stream",
     "text": [
      "[1 6 1 3 6 3 4 4 4 6 5 4 6 4 6 6 4 6 3 4 2 1 3 4 5 2 2 4 3 5 2 2 4 1 2 4 3\n",
      " 3 4 4 5 4 6 6 6 5 3 4 2 5 2 5 6 6 6 2 3 5 6 3 1 5 2 5 5 2 3 1 3 6 4 6 4 1\n",
      " 6 2 5 6 5 6 4 5 4 1 3 5 5 6 4 3 4 6 2 1 3 1 3 4 6 4 4 4 5 3 4 3 2 2 1 4 1\n",
      " 5 3 6 3 5 3 6 6 2 4 4 2 4 3 3 3 6 6 6 3 1 6 6 6 4 1 1 3 5 6 2 4 1 4 6 4 6\n",
      " 5 5 2 5 5 3 5 5 3 3 3 2 6 5 2 4 1 2 2 4 3 1 4 3 1 6 5 6 3 4 4 6 1 5 1 1 5\n",
      " 2 1 1 5 4 6 6 3 4 1 6 6 5 1 4 2 2 4 3 6 1 1 6 5 3 5 3 6 2 6 5 1 3 5 2 3 4\n",
      " 5 4 6 1 6 3 2 3 4 5 6 6 2 4 1 4 2 4 5 4 2 4 3 5 6 3 6 3 5 6 2 6 3 1 5 6 6\n",
      " 6 2 3 6 2 6 6 3 6 3 6 2 1 6 4 1 2 6 6 6 4 6 2 2 2 1 1 5 2 5 2 1 3 5 5 6 4\n",
      " 3 2 2 6 4 5 2 3 3 6 6 2 5 5 3 2 5 4 6 2 4 1 2 4 2 4 6 6 5 6 6 4 3 6 1 6 1\n",
      " 5 6 4 5 2 2 1 4 2 5 1 6 5 3 1 5 6 4 6 6 1 5 5 3 2 1 6 2 6 5 6 6 6 3 2 6 6\n",
      " 6 2 6 6 6 4 1 1 3 6 1 3 6 4 4 6 4 3 1 1 4 3 6 4 5 1 5 3 2 5 3 4 1 4 2 2 4\n",
      " 5 2 3 1 1 5 4 5 1 5 2 2 6 2 6 5 3 3 6 5 6 2 4 5 6 4 1 4 3 4 6 1 1 6 4 3 1\n",
      " 5 4 1 4 5 1 2 4 1 5 4 1 3 4 2 3 2 6 4 6 6 6 2 5 4 5 4 3 5 6 6 5 6 6 3 3 2\n",
      " 6 6 5 1 6 5 1 6 6 2 1 1 3 1 3 1 6 4 1 5 5 5 1 6 6 6 1 3 4 4 2 6 1 5 4 3 6\n",
      " 1 2 1 3 4 6 5 2 5 5 2 1 4 1 2 3 1 1 4 6 3 3 3 2 4 1 6 6 6 3 5 4 1 3 5 3 1\n",
      " 4 6 6 6 6 5 5 2 5 4 1 3 3 2 1 5 1 1 6 2 1 4 3 6 2 3 2 3 5 3 3 2 1 2 1 5 6\n",
      " 6 2 2 1 1 4 5 6 3 5 1 2 3 4 4 6 6 6 5 3 2 6 2 5 3 6 5 4 3 2 3 3 2 3 4 6 6\n",
      " 5 6 1 6 5 1 1 6 6 2 3 6 2 6 5 2 5 4 2 3 2 6 5 2 6 6 4 6 6 3 4 5 6 3 6 6 2\n",
      " 4 6 1 5 2 3 2 4 5 1 5 6 4 4 6 4 6 6 5 6 2 6 4 5 2 6 6 3 1 3 6 5 2 5 4 4 4\n",
      " 5 1 1 6 4 5 6 3 4 2 3 5 5 4 2 4 3 6 3 4 2 6 1 2 6 5 6 6 6 6 6 5 1 2 5 4 5\n",
      " 6 5 2 5 6 1 3 4 5 1 4 1 5 3 3 6 2 5 1 5 4 4 3 3 5 6 2 2 2 2 1 6 3 6 6 6 1\n",
      " 6 3 6 3 6 3 2 6 2 6 3 6 4 4 6 5 6 6 6 5 6 6 4 6 1 5 6 2 2 1 2 1 6 5 4 4 3\n",
      " 2 6 3 3 4 3 4 6 6 3 2 1 2 4 5 2 6 3 2 6 4 5 2 3 6 3 6 3 6 3 6 2 1 4 2 2 4\n",
      " 6 4 1 1 4 1 3 3 3 4 5 2 3 3 4 4 3 6 3 4 5 2 5 4 3 6 6 1 6 2 6 4 4 1 4 1 1\n",
      " 2 6 2 4 6 5 2 5 4 4 4 2 3 3 1 5 3 4 5 1 1 2 3 5 3 3 6 6 2 5 6 6 5 5 4 6 2\n",
      " 6 1 3 4 6 3 3 6 6 2 2 3 4 6 2 6 6 6 6 6 6 1 2 5 3 6 6 6 6 4 6 6 6 4 6 4 5\n",
      " 3 4 4 6 2 1 3 6 2 6 3 5 1 4 2 6 1 6 2 6 5 3 3 2 1 3 3 4 3 1 2 5 3 5 1 1 4\n",
      " 6]\n"
     ]
    }
   ],
   "source": [
    "RG = random_generator(A, E, 1000, begin_dist(A))\n",
    "print(RG[0])"
   ]
  },
  {
   "cell_type": "markdown",
   "metadata": {},
   "source": [
    "2) Compare the simulated path and Viterbi most likely path"
   ]
  },
  {
   "cell_type": "code",
   "execution_count": 12,
   "metadata": {
    "collapsed": false
   },
   "outputs": [
    {
     "name": "stdout",
     "output_type": "stream",
     "text": [
      "The same states/Попадания: 0.796\n"
     ]
    }
   ],
   "source": [
    "VA = Viterby_algoritm(RG[0], A, E, X)\n",
    "SP = RG[1]\n",
    "sum = 0\n",
    "for i in range(len(VA)):\n",
    "    if RG[1][i] == VA[i]:\n",
    "        sum +=1\n",
    "print('The same states/Попадания:', sum/len(VA))"
   ]
  },
  {
   "cell_type": "markdown",
   "metadata": {},
   "source": [
    "Compare the forward path and backward path"
   ]
  },
  {
   "cell_type": "code",
   "execution_count": 13,
   "metadata": {
    "collapsed": false
   },
   "outputs": [
    {
     "name": "stdout",
     "output_type": "stream",
     "text": [
      "-1763.5400535\n",
      "-1763.5400535\n"
     ]
    }
   ],
   "source": [
    "FA = Forward(RG[0], A, E, X)\n",
    "BA = Backward(RG[0], A, E, X)\n",
    "\n",
    "#log(P)+ sum(log(norm(i)))\n",
    "#Normalized probability of observation * vector of normalization coefficients(every element)\n",
    "print(np.log(FA[1]) + np.sum(np.log(FA[2])))\n",
    "print(np.log(BA[1]) + np.sum(np.log(BA[2])))"
   ]
  },
  {
   "cell_type": "markdown",
   "metadata": {},
   "source": [
    "3) Plot posterior probability P(fair). Compare with the regions of the simulated\n",
    "path where loaded dice was used."
   ]
  },
  {
   "cell_type": "code",
   "execution_count": 14,
   "metadata": {
    "collapsed": false
   },
   "outputs": [
    {
     "data": {
      "image/png": "[encoded data removed]",
      "text/plain": [
       "<Figure size 1440x360 with 1 Axes>"
      ]
     },
     "metadata": {
      "needs_background": "light"
     },
     "output_type": "display_data"
    }
   ],
   "source": [
    "AP = Posterior(FA[0][0], BA[0][0], FA[2], BA[2], FA[1])\n",
    "L = len(AP)\n",
    "Sim = RG[1]\n",
    "#print Posterior probability P(fair)\n",
    "M = 2\n",
    "fig = plt.figure()\n",
    "res = np.zeros((L,M))\n",
    "for m in range(L):\n",
    "    res[m] = [m+1,AP[m]]\n",
    "    \n",
    "for i in range(L):\n",
    "    if Sim[i] == 0:\n",
    "        plt.plot([i+1,i+1], [0,1], color = 'silver')\n",
    "            \n",
    "plt.plot(res[:,0], res[:,1])\n",
    "\n",
    "fig.set_figwidth(20)\n",
    "fig.set_figheight(5)\n",
    "plt.show()"
   ]
  },
  {
   "cell_type": "code",
   "execution_count": 17,
   "metadata": {
    "collapsed": false
   },
   "outputs": [
    {
     "name": "stdout",
     "output_type": "stream",
     "text": [
      "A0:\n",
      "[[ 0.67  0.33]\n",
      " [ 0.3   0.7 ]]\n",
      "E0:\n",
      "[[ 0.14  0.15  0.08  0.32  0.23  0.08]\n",
      " [ 0.05  0.2   0.22  0.03  0.12  0.38]]\n"
     ]
    }
   ],
   "source": [
    "M = len(E)\n",
    "R = len(E.transpose())\n",
    "while(1):\n",
    "    A0 = np.around(norm_matrix(np.random.random((M,M))), decimals = 2)\n",
    "    E0 = np.around(norm_matrix(np.random.random((M,R))), decimals = 2)\n",
    "    if (A0 != np.zeros((M,M))).all() and (E0 != np.zeros((M,R))).all():\n",
    "        print('A0:', A0, 'E0:', E0, sep = '\\n')\n",
    "        break"
   ]
  },
  {
   "cell_type": "markdown",
   "metadata": {},
   "source": [
    "__Example 1:__  \n",
    "n = 10  \n",
    "L = 100  \n",
    "eps = 0.001  "
   ]
  },
  {
   "cell_type": "code",
   "execution_count": 18,
   "metadata": {
    "collapsed": false,
    "scrolled": false
   },
   "outputs": [
    {
     "name": "stdout",
     "output_type": "stream",
     "text": [
      "Complete credibility of every 10-th iteration:\n",
      "-3557.33992936\n",
      "-3498.39906419\n",
      "-3493.27958388\n",
      "-3492.17146113\n",
      "-3491.05278389\n",
      "-3489.66563634\n",
      "-3488.00597588\n",
      "-3486.23548774\n",
      "-3484.72011306\n",
      "-3483.77298744\n",
      "-3483.34600649\n",
      "-3483.19716706\n",
      "-3483.15342244\n",
      "-3483.14187469\n",
      "-3483.13904338\n",
      "eps = 0.001\n",
      "A:\n",
      " [[ 0.95  0.05]\n",
      " [ 0.09  0.91]]\n",
      "E:\n",
      " [[ 0.15  0.17  0.18  0.18  0.18  0.15]\n",
      " [ 0.12  0.09  0.11  0.12  0.08  0.49]]\n"
     ]
    }
   ],
   "source": [
    "n = 10     #count of sequences\n",
    "L = 200    #length of sequences\n",
    "eps = 0.001  #epsilon\n",
    "BW = Baum_Welch(A, E, A0, E0, n, L, eps)\n",
    "print('eps =', eps)\n",
    "print('A:\\n', np.around(BW[0], decimals = 2))\n",
    "print('E:\\n', np.around(BW[1], decimals = 2))"
   ]
  },
  {
   "cell_type": "markdown",
   "metadata": {},
   "source": [
    "__Example 2:__  \n",
    "n = 20  \n",
    "L = 200  \n",
    "eps = 0.001"
   ]
  },
  {
   "cell_type": "code",
   "execution_count": 19,
   "metadata": {
    "collapsed": false
   },
   "outputs": [
    {
     "name": "stdout",
     "output_type": "stream",
     "text": [
      "eps = 0.001\n",
      "A:\n",
      " [[ 0.96  0.04]\n",
      " [ 0.07  0.93]]\n",
      "E:\n",
      " [[ 0.18  0.14  0.16  0.17  0.16  0.18]\n",
      " [ 0.09  0.11  0.09  0.11  0.11  0.47]]\n"
     ]
    }
   ],
   "source": [
    "n = 10     #count of sequences\n",
    "L = 500    #length of sequences\n",
    "eps = 0.001  #epsilon\n",
    "\n",
    "BW = Baum_Welch(A, E, A0, E0, n, L, eps)\n",
    "print('eps =', eps)\n",
    "print('A:\\n', np.around(BW[0], decimals = 2))\n",
    "print('E:\\n', np.around(BW[1], decimals = 2))"
   ]
  },
  {
   "cell_type": "markdown",
   "metadata": {},
   "source": [
    "__Example 3:__  \n",
    "n = 20  \n",
    "L = 200  \n",
    "eps = 0.001"
   ]
  },
  {
   "cell_type": "code",
   "execution_count": null,
   "metadata": {
    "collapsed": false
   },
   "outputs": [
    {
     "name": "stdout",
     "output_type": "stream",
     "text": [
      "eps = 0.001\n",
      "A:\n",
      " [[ 0.95  0.05]\n",
      " [ 0.1   0.9 ]]\n",
      "E:\n",
      " [[ 0.18  0.18  0.16  0.15  0.16  0.17]\n",
      " [ 0.1   0.09  0.09  0.1   0.12  0.5 ]]\n"
     ]
    }
   ],
   "source": [
    "n = 20     #count of sequences\n",
    "L = 200    #length of sequences\n",
    "eps = 0.001  #epsilon\n",
    "\n",
    "BW = Baum_Welch(A, E, A0, E0, n, L, eps)\n",
    "print('eps =', eps)\n",
    "print('A:\\n', np.around(BW[0], decimals = 2))\n",
    "print('E:\\n', np.around(BW[1], decimals = 2))"
   ]
  },
  {
   "cell_type": "markdown",
   "metadata": {},
   "source": [
    "We can see, that with new parametrs algorithm works much better. If increase accuracy(eps) or increase count or length of sequences algorithm will work better and better, but it takes much time."
   ]
  }
 ],
 "metadata": {
  "kernelspec": {
   "display_name": "Python 3",
   "language": "python",
   "name": "python3"
  },
  "language_info": {
   "codemirror_mode": {
    "name": "ipython",
    "version": 3
   },
   "file_extension": ".py",
   "mimetype": "text/x-python",
   "name": "python",
   "nbconvert_exporter": "python",
   "pygments_lexer": "ipython3",
   "version": "3.5.1"
  }
 },
 "nbformat": 4,
 "nbformat_minor": 2
}
